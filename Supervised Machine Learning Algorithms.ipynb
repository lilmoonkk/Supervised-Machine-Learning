{
 "cells": [
  {
   "cell_type": "markdown",
   "metadata": {},
   "source": [
    "# Machine Learning Model of QSAR biodegradation Classification Problem"
   ]
  },
  {
   "cell_type": "markdown",
   "metadata": {},
   "source": [
    " "
   ]
  },
  {
   "cell_type": "markdown",
   "metadata": {},
   "source": [
    "## 1.0 Input data"
   ]
  },
  {
   "cell_type": "code",
   "execution_count": 39,
   "metadata": {},
   "outputs": [],
   "source": [
    "# importing standard modules  \n",
    "import pandas as pd\n",
    "import numpy as np\n",
    "from sklearn.model_selection import GridSearchCV\n",
    "from sklearn.metrics import accuracy_score,recall_score,precision_score, f1_score,confusion_matrix,classification_report\n",
    "import warnings\n",
    "warnings.filterwarnings('ignore')"
   ]
  },
  {
   "cell_type": "code",
   "execution_count": 40,
   "metadata": {},
   "outputs": [],
   "source": [
    "# read data\n",
    "dataset = pd.read_csv('biodeg.csv', sep=';')"
   ]
  },
  {
   "cell_type": "code",
   "execution_count": 41,
   "metadata": {},
   "outputs": [
    {
     "data": {
      "text/html": [
       "<div>\n",
       "<style scoped>\n",
       "    .dataframe tbody tr th:only-of-type {\n",
       "        vertical-align: middle;\n",
       "    }\n",
       "\n",
       "    .dataframe tbody tr th {\n",
       "        vertical-align: top;\n",
       "    }\n",
       "\n",
       "    .dataframe thead th {\n",
       "        text-align: right;\n",
       "    }\n",
       "</style>\n",
       "<table border=\"1\" class=\"dataframe\">\n",
       "  <thead>\n",
       "    <tr style=\"text-align: right;\">\n",
       "      <th></th>\n",
       "      <th>SpMax_L</th>\n",
       "      <th>J_Dz(e)</th>\n",
       "      <th>nHM</th>\n",
       "      <th>F01[N-N]</th>\n",
       "      <th>F04[C-N]</th>\n",
       "      <th>NssssC</th>\n",
       "      <th>nCb-</th>\n",
       "      <th>C%</th>\n",
       "      <th>nCp</th>\n",
       "      <th>nO</th>\n",
       "      <th>...</th>\n",
       "      <th>C-026</th>\n",
       "      <th>F02[C-N]</th>\n",
       "      <th>nHDon</th>\n",
       "      <th>SpMax_B(m)</th>\n",
       "      <th>Psi_i_A</th>\n",
       "      <th>nN</th>\n",
       "      <th>SM6_B(m)</th>\n",
       "      <th>nArCOOR</th>\n",
       "      <th>nX</th>\n",
       "      <th>experimental_class</th>\n",
       "    </tr>\n",
       "  </thead>\n",
       "  <tbody>\n",
       "    <tr>\n",
       "      <th>0</th>\n",
       "      <td>3.919</td>\n",
       "      <td>2.6909</td>\n",
       "      <td>0</td>\n",
       "      <td>0</td>\n",
       "      <td>0</td>\n",
       "      <td>0</td>\n",
       "      <td>0</td>\n",
       "      <td>31.4</td>\n",
       "      <td>2</td>\n",
       "      <td>0</td>\n",
       "      <td>...</td>\n",
       "      <td>0</td>\n",
       "      <td>0</td>\n",
       "      <td>0</td>\n",
       "      <td>2.949</td>\n",
       "      <td>1.591</td>\n",
       "      <td>0</td>\n",
       "      <td>7.253</td>\n",
       "      <td>0</td>\n",
       "      <td>0</td>\n",
       "      <td>RB</td>\n",
       "    </tr>\n",
       "    <tr>\n",
       "      <th>1</th>\n",
       "      <td>4.170</td>\n",
       "      <td>2.1144</td>\n",
       "      <td>0</td>\n",
       "      <td>0</td>\n",
       "      <td>0</td>\n",
       "      <td>0</td>\n",
       "      <td>0</td>\n",
       "      <td>30.8</td>\n",
       "      <td>1</td>\n",
       "      <td>1</td>\n",
       "      <td>...</td>\n",
       "      <td>0</td>\n",
       "      <td>0</td>\n",
       "      <td>0</td>\n",
       "      <td>3.315</td>\n",
       "      <td>1.967</td>\n",
       "      <td>0</td>\n",
       "      <td>7.257</td>\n",
       "      <td>0</td>\n",
       "      <td>0</td>\n",
       "      <td>RB</td>\n",
       "    </tr>\n",
       "    <tr>\n",
       "      <th>2</th>\n",
       "      <td>3.932</td>\n",
       "      <td>3.2512</td>\n",
       "      <td>0</td>\n",
       "      <td>0</td>\n",
       "      <td>0</td>\n",
       "      <td>0</td>\n",
       "      <td>0</td>\n",
       "      <td>26.7</td>\n",
       "      <td>2</td>\n",
       "      <td>4</td>\n",
       "      <td>...</td>\n",
       "      <td>0</td>\n",
       "      <td>0</td>\n",
       "      <td>1</td>\n",
       "      <td>3.076</td>\n",
       "      <td>2.417</td>\n",
       "      <td>0</td>\n",
       "      <td>7.601</td>\n",
       "      <td>0</td>\n",
       "      <td>0</td>\n",
       "      <td>RB</td>\n",
       "    </tr>\n",
       "    <tr>\n",
       "      <th>3</th>\n",
       "      <td>3.000</td>\n",
       "      <td>2.7098</td>\n",
       "      <td>0</td>\n",
       "      <td>0</td>\n",
       "      <td>0</td>\n",
       "      <td>0</td>\n",
       "      <td>0</td>\n",
       "      <td>20.0</td>\n",
       "      <td>0</td>\n",
       "      <td>2</td>\n",
       "      <td>...</td>\n",
       "      <td>0</td>\n",
       "      <td>0</td>\n",
       "      <td>1</td>\n",
       "      <td>3.046</td>\n",
       "      <td>5.000</td>\n",
       "      <td>0</td>\n",
       "      <td>6.690</td>\n",
       "      <td>0</td>\n",
       "      <td>0</td>\n",
       "      <td>RB</td>\n",
       "    </tr>\n",
       "    <tr>\n",
       "      <th>4</th>\n",
       "      <td>4.236</td>\n",
       "      <td>3.3944</td>\n",
       "      <td>0</td>\n",
       "      <td>0</td>\n",
       "      <td>0</td>\n",
       "      <td>0</td>\n",
       "      <td>0</td>\n",
       "      <td>29.4</td>\n",
       "      <td>2</td>\n",
       "      <td>4</td>\n",
       "      <td>...</td>\n",
       "      <td>0</td>\n",
       "      <td>0</td>\n",
       "      <td>0</td>\n",
       "      <td>3.351</td>\n",
       "      <td>2.405</td>\n",
       "      <td>0</td>\n",
       "      <td>8.003</td>\n",
       "      <td>0</td>\n",
       "      <td>0</td>\n",
       "      <td>RB</td>\n",
       "    </tr>\n",
       "    <tr>\n",
       "      <th>5</th>\n",
       "      <td>4.236</td>\n",
       "      <td>3.4286</td>\n",
       "      <td>0</td>\n",
       "      <td>0</td>\n",
       "      <td>0</td>\n",
       "      <td>0</td>\n",
       "      <td>0</td>\n",
       "      <td>28.6</td>\n",
       "      <td>2</td>\n",
       "      <td>4</td>\n",
       "      <td>...</td>\n",
       "      <td>0</td>\n",
       "      <td>0</td>\n",
       "      <td>0</td>\n",
       "      <td>3.351</td>\n",
       "      <td>2.556</td>\n",
       "      <td>0</td>\n",
       "      <td>7.904</td>\n",
       "      <td>0</td>\n",
       "      <td>0</td>\n",
       "      <td>RB</td>\n",
       "    </tr>\n",
       "    <tr>\n",
       "      <th>6</th>\n",
       "      <td>5.000</td>\n",
       "      <td>5.0476</td>\n",
       "      <td>1</td>\n",
       "      <td>0</td>\n",
       "      <td>0</td>\n",
       "      <td>0</td>\n",
       "      <td>0</td>\n",
       "      <td>11.1</td>\n",
       "      <td>0</td>\n",
       "      <td>3</td>\n",
       "      <td>...</td>\n",
       "      <td>0</td>\n",
       "      <td>0</td>\n",
       "      <td>1</td>\n",
       "      <td>4.712</td>\n",
       "      <td>4.583</td>\n",
       "      <td>0</td>\n",
       "      <td>9.303</td>\n",
       "      <td>0</td>\n",
       "      <td>0</td>\n",
       "      <td>RB</td>\n",
       "    </tr>\n",
       "    <tr>\n",
       "      <th>7</th>\n",
       "      <td>4.525</td>\n",
       "      <td>3.8301</td>\n",
       "      <td>0</td>\n",
       "      <td>0</td>\n",
       "      <td>0</td>\n",
       "      <td>0</td>\n",
       "      <td>0</td>\n",
       "      <td>31.6</td>\n",
       "      <td>3</td>\n",
       "      <td>2</td>\n",
       "      <td>...</td>\n",
       "      <td>0</td>\n",
       "      <td>0</td>\n",
       "      <td>0</td>\n",
       "      <td>3.379</td>\n",
       "      <td>2.143</td>\n",
       "      <td>0</td>\n",
       "      <td>7.950</td>\n",
       "      <td>0</td>\n",
       "      <td>0</td>\n",
       "      <td>RB</td>\n",
       "    </tr>\n",
       "    <tr>\n",
       "      <th>8</th>\n",
       "      <td>4.596</td>\n",
       "      <td>3.0777</td>\n",
       "      <td>0</td>\n",
       "      <td>0</td>\n",
       "      <td>0</td>\n",
       "      <td>0</td>\n",
       "      <td>2</td>\n",
       "      <td>44.4</td>\n",
       "      <td>2</td>\n",
       "      <td>0</td>\n",
       "      <td>...</td>\n",
       "      <td>0</td>\n",
       "      <td>0</td>\n",
       "      <td>0</td>\n",
       "      <td>3.626</td>\n",
       "      <td>1.917</td>\n",
       "      <td>0</td>\n",
       "      <td>7.939</td>\n",
       "      <td>0</td>\n",
       "      <td>0</td>\n",
       "      <td>RB</td>\n",
       "    </tr>\n",
       "    <tr>\n",
       "      <th>9</th>\n",
       "      <td>5.040</td>\n",
       "      <td>3.6112</td>\n",
       "      <td>0</td>\n",
       "      <td>0</td>\n",
       "      <td>1</td>\n",
       "      <td>0</td>\n",
       "      <td>2</td>\n",
       "      <td>41.2</td>\n",
       "      <td>0</td>\n",
       "      <td>4</td>\n",
       "      <td>...</td>\n",
       "      <td>1</td>\n",
       "      <td>2</td>\n",
       "      <td>1</td>\n",
       "      <td>3.888</td>\n",
       "      <td>3.500</td>\n",
       "      <td>1</td>\n",
       "      <td>8.706</td>\n",
       "      <td>0</td>\n",
       "      <td>0</td>\n",
       "      <td>RB</td>\n",
       "    </tr>\n",
       "  </tbody>\n",
       "</table>\n",
       "<p>10 rows × 42 columns</p>\n",
       "</div>"
      ],
      "text/plain": [
       "   SpMax_L  J_Dz(e)  nHM  F01[N-N]  F04[C-N]  NssssC  nCb-    C%  nCp  nO  \\\n",
       "0    3.919   2.6909    0         0         0       0     0  31.4    2   0   \n",
       "1    4.170   2.1144    0         0         0       0     0  30.8    1   1   \n",
       "2    3.932   3.2512    0         0         0       0     0  26.7    2   4   \n",
       "3    3.000   2.7098    0         0         0       0     0  20.0    0   2   \n",
       "4    4.236   3.3944    0         0         0       0     0  29.4    2   4   \n",
       "5    4.236   3.4286    0         0         0       0     0  28.6    2   4   \n",
       "6    5.000   5.0476    1         0         0       0     0  11.1    0   3   \n",
       "7    4.525   3.8301    0         0         0       0     0  31.6    3   2   \n",
       "8    4.596   3.0777    0         0         0       0     2  44.4    2   0   \n",
       "9    5.040   3.6112    0         0         1       0     2  41.2    0   4   \n",
       "\n",
       "   ...  C-026  F02[C-N]  nHDon  SpMax_B(m)  Psi_i_A  nN  SM6_B(m)  nArCOOR  \\\n",
       "0  ...      0         0      0       2.949    1.591   0     7.253        0   \n",
       "1  ...      0         0      0       3.315    1.967   0     7.257        0   \n",
       "2  ...      0         0      1       3.076    2.417   0     7.601        0   \n",
       "3  ...      0         0      1       3.046    5.000   0     6.690        0   \n",
       "4  ...      0         0      0       3.351    2.405   0     8.003        0   \n",
       "5  ...      0         0      0       3.351    2.556   0     7.904        0   \n",
       "6  ...      0         0      1       4.712    4.583   0     9.303        0   \n",
       "7  ...      0         0      0       3.379    2.143   0     7.950        0   \n",
       "8  ...      0         0      0       3.626    1.917   0     7.939        0   \n",
       "9  ...      1         2      1       3.888    3.500   1     8.706        0   \n",
       "\n",
       "   nX  experimental_class  \n",
       "0   0                  RB  \n",
       "1   0                  RB  \n",
       "2   0                  RB  \n",
       "3   0                  RB  \n",
       "4   0                  RB  \n",
       "5   0                  RB  \n",
       "6   0                  RB  \n",
       "7   0                  RB  \n",
       "8   0                  RB  \n",
       "9   0                  RB  \n",
       "\n",
       "[10 rows x 42 columns]"
      ]
     },
     "execution_count": 41,
     "metadata": {},
     "output_type": "execute_result"
    }
   ],
   "source": [
    "dataset.head(10)"
   ]
  },
  {
   "cell_type": "code",
   "execution_count": 42,
   "metadata": {},
   "outputs": [
    {
     "data": {
      "text/plain": [
       "(1055, 42)"
      ]
     },
     "execution_count": 42,
     "metadata": {},
     "output_type": "execute_result"
    }
   ],
   "source": [
    "dataset.shape"
   ]
  },
  {
   "cell_type": "code",
   "execution_count": 43,
   "metadata": {},
   "outputs": [
    {
     "name": "stdout",
     "output_type": "stream",
     "text": [
      "<class 'pandas.core.frame.DataFrame'>\n",
      "RangeIndex: 1055 entries, 0 to 1054\n",
      "Data columns (total 42 columns):\n",
      " #   Column              Non-Null Count  Dtype  \n",
      "---  ------              --------------  -----  \n",
      " 0   SpMax_L             1055 non-null   float64\n",
      " 1   J_Dz(e)             1055 non-null   float64\n",
      " 2   nHM                 1055 non-null   int64  \n",
      " 3   F01[N-N]            1055 non-null   int64  \n",
      " 4   F04[C-N]            1055 non-null   int64  \n",
      " 5   NssssC              1055 non-null   int64  \n",
      " 6   nCb-                1055 non-null   int64  \n",
      " 7   C%                  1055 non-null   float64\n",
      " 8   nCp                 1055 non-null   int64  \n",
      " 9   nO                  1055 non-null   int64  \n",
      " 10  F03[C-N]            1055 non-null   int64  \n",
      " 11  SdssC               1055 non-null   float64\n",
      " 12  HyWi_B(m)           1055 non-null   float64\n",
      " 13  LOC                 1055 non-null   float64\n",
      " 14  SM6_L               1055 non-null   float64\n",
      " 15  F03[C-O]            1055 non-null   int64  \n",
      " 16  Me                  1055 non-null   float64\n",
      " 17  Mi                  1055 non-null   float64\n",
      " 18  nN-N                1055 non-null   int64  \n",
      " 19  nArNO2              1055 non-null   int64  \n",
      " 20  nCRX3               1055 non-null   int64  \n",
      " 21  SpPosA_B(p)         1055 non-null   float64\n",
      " 22  nCIR                1055 non-null   int64  \n",
      " 23  B01[C-Br]           1055 non-null   int64  \n",
      " 24  B03[C-Cl]           1055 non-null   int64  \n",
      " 25  N-073               1055 non-null   int64  \n",
      " 26  SpMax_A             1055 non-null   float64\n",
      " 27  Psi_i_1d            1055 non-null   float64\n",
      " 28  B04[C-Br]           1055 non-null   int64  \n",
      " 29  SdO                 1055 non-null   float64\n",
      " 30  TI2_L               1055 non-null   float64\n",
      " 31  nCrt                1055 non-null   int64  \n",
      " 32  C-026               1055 non-null   int64  \n",
      " 33  F02[C-N]            1055 non-null   int64  \n",
      " 34  nHDon               1055 non-null   int64  \n",
      " 35  SpMax_B(m)          1055 non-null   float64\n",
      " 36  Psi_i_A             1055 non-null   float64\n",
      " 37  nN                  1055 non-null   int64  \n",
      " 38  SM6_B(m)            1055 non-null   float64\n",
      " 39  nArCOOR             1055 non-null   int64  \n",
      " 40  nX                  1055 non-null   int64  \n",
      " 41  experimental_class  1055 non-null   object \n",
      "dtypes: float64(17), int64(24), object(1)\n",
      "memory usage: 346.3+ KB\n"
     ]
    }
   ],
   "source": [
    "dataset.info()"
   ]
  },
  {
   "cell_type": "markdown",
   "metadata": {},
   "source": [
    "Dataset is complete and ready to proceed now."
   ]
  },
  {
   "cell_type": "markdown",
   "metadata": {},
   "source": [
    "## 2.0 Separating variables and outputs (targets)"
   ]
  },
  {
   "cell_type": "code",
   "execution_count": 44,
   "metadata": {},
   "outputs": [],
   "source": [
    "from sklearn.feature_selection import f_classif, SelectKBest"
   ]
  },
  {
   "cell_type": "code",
   "execution_count": 45,
   "metadata": {},
   "outputs": [],
   "source": [
    "# x is feature attributes\n",
    "x = dataset.iloc[:,:-1]\n",
    "# y is target variable\n",
    "y = dataset.iloc[:,-1]\n",
    "# turning RB = 1 ; NRB =0 for easier processing\n",
    "y = y.replace(['RB','NRB'],[1,0])"
   ]
  },
  {
   "cell_type": "markdown",
   "metadata": {},
   "source": [
    "All feature attribures are now in x. And, outputs(targets) are now in y where RB is represented by 1 and NRB is represented by 0."
   ]
  },
  {
   "cell_type": "markdown",
   "metadata": {},
   "source": [
    "## 3.0 Feature Selection"
   ]
  },
  {
   "cell_type": "markdown",
   "metadata": {},
   "source": [
    "Since there are up to 40 feature attributes which are a lot and a huge dataset ( more than 1000 sets of data ), we would not be using wrapper method. Instead we use filter method - ANOVA. The reason of choosing ANOVA is that it is suitable for classification with numeric inputs and categorical output.\n",
    "Different options of k such as 1/2 (20) , 2/3 (27), 3/4 (30) of numbers of attributes are tested.\n",
    "2/3(27) has achieved the highest accuracy_score. Therefore, it is adopted."
   ]
  },
  {
   "cell_type": "code",
   "execution_count": 46,
   "metadata": {},
   "outputs": [
    {
     "name": "stdout",
     "output_type": "stream",
     "text": [
      "(1055, 27)\n",
      "[[ 3.919  0.     0.    ...  7.253  0.     0.   ]\n",
      " [ 4.17   0.     0.    ...  7.257  0.     0.   ]\n",
      " [ 3.932  0.     0.    ...  7.601  0.     0.   ]\n",
      " ...\n",
      " [ 4.869  0.     9.    ...  9.537  1.     0.   ]\n",
      " [ 5.158  2.    36.    ... 11.055  0.     1.   ]\n",
      " [ 5.076  2.     0.    ...  9.13   0.     2.   ]]\n"
     ]
    }
   ],
   "source": [
    "selectedFeatures = SelectKBest(score_func=f_classif, k=27) .fit_transform(x,y)\n",
    "print(selectedFeatures.shape)\n",
    "print(selectedFeatures)"
   ]
  },
  {
   "cell_type": "markdown",
   "metadata": {},
   "source": [
    "## 4.0 Normalizing data"
   ]
  },
  {
   "cell_type": "code",
   "execution_count": 47,
   "metadata": {},
   "outputs": [
    {
     "data": {
      "text/plain": [
       "array([[0.42682384, 0.        , 0.        , ..., 0.23878156, 0.        ,\n",
       "        0.        ],\n",
       "       [0.48265125, 0.        , 0.        , ..., 0.23919043, 0.        ,\n",
       "        0.        ],\n",
       "       [0.4297153 , 0.        , 0.        , ..., 0.27435347, 0.        ,\n",
       "        0.        ],\n",
       "       ...,\n",
       "       [0.63812278, 0.        , 0.25      , ..., 0.47224778, 0.25      ,\n",
       "        0.        ],\n",
       "       [0.70240214, 0.16666667, 1.        , ..., 0.6274149 , 0.        ,\n",
       "        0.03703704],\n",
       "       [0.6841637 , 0.16666667, 0.        , ..., 0.430645  , 0.        ,\n",
       "        0.07407407]])"
      ]
     },
     "execution_count": 47,
     "metadata": {},
     "output_type": "execute_result"
    }
   ],
   "source": [
    "from sklearn.preprocessing import MinMaxScaler\n",
    "from sklearn.model_selection import train_test_split\n",
    "scaler = MinMaxScaler()\n",
    "X_transform = scaler.fit_transform(selectedFeatures)\n",
    "X_transform"
   ]
  },
  {
   "cell_type": "markdown",
   "metadata": {},
   "source": [
    "## 5.0 Splitting data"
   ]
  },
  {
   "cell_type": "code",
   "execution_count": 48,
   "metadata": {},
   "outputs": [],
   "source": [
    "from sklearn.model_selection import train_test_split"
   ]
  },
  {
   "cell_type": "code",
   "execution_count": 49,
   "metadata": {},
   "outputs": [
    {
     "name": "stdout",
     "output_type": "stream",
     "text": [
      "(590, 27)\n",
      "(317, 27)\n",
      "(148, 27)\n"
     ]
    }
   ],
   "source": [
    "seed_num = 80\n",
    "X_train, X_test, y_train, y_test = train_test_split(X_transform, y, test_size=0.3, random_state=seed_num) # random_state is set to a value for reproducible output.\n",
    "X_train, X_val, y_train, y_val = train_test_split(X_train, y_train,test_size=0.2, random_state=seed_num)\n",
    "print(X_train.shape)\n",
    "print(X_test.shape)\n",
    "print(X_val.shape)"
   ]
  },
  {
   "cell_type": "markdown",
   "metadata": {},
   "source": [
    "## 6.0 Finding optimal machine learning model"
   ]
  },
  {
   "cell_type": "markdown",
   "metadata": {},
   "source": [
    "### 6.1 K-Nearest Neighbour"
   ]
  },
  {
   "cell_type": "code",
   "execution_count": 50,
   "metadata": {},
   "outputs": [
    {
     "name": "stdout",
     "output_type": "stream",
     "text": [
      "12\n"
     ]
    }
   ],
   "source": [
    "# Find the best k\n",
    "from sklearn.neighbors import KNeighborsClassifier\n",
    "scores = []\n",
    "max_score = 0\n",
    "best_k = 0\n",
    "for k in range(1,20):\n",
    "    model_knn = KNeighborsClassifier(n_neighbors=k)\n",
    "    model_knn.fit(X_train, y_train)\n",
    "    score = model_knn.score(X_val, y_val)\n",
    "    if score > max_score:\n",
    "        max_score = score\n",
    "        best_k = k\n",
    "    scores.append(score)\n",
    "    \n",
    "print(best_k)"
   ]
  },
  {
   "cell_type": "code",
   "execution_count": 51,
   "metadata": {},
   "outputs": [],
   "source": [
    "# build model\n",
    "model_knn = KNeighborsClassifier(n_neighbors=best_k)\n",
    "model_knn.fit(X_train, y_train)\n",
    "\n",
    "# start prediction\n",
    "y_pred = model_knn.predict(X_val)"
   ]
  },
  {
   "cell_type": "code",
   "execution_count": 52,
   "metadata": {},
   "outputs": [
    {
     "name": "stdout",
     "output_type": "stream",
     "text": [
      "0.8986486486486487\n",
      "0.84\n",
      "0.8571428571428571\n",
      "0.8484848484848485\n",
      "[[91  7]\n",
      " [ 8 42]]\n",
      "              precision    recall  f1-score   support\n",
      "\n",
      "           0       0.92      0.93      0.92        98\n",
      "           1       0.86      0.84      0.85        50\n",
      "\n",
      "    accuracy                           0.90       148\n",
      "   macro avg       0.89      0.88      0.89       148\n",
      "weighted avg       0.90      0.90      0.90       148\n",
      "\n"
     ]
    }
   ],
   "source": [
    "# print results\n",
    "print(accuracy_score(y_val, y_pred))\n",
    "print(recall_score(y_val, y_pred))\n",
    "print(precision_score(y_val, y_pred))\n",
    "print(f1_score(y_val, y_pred))\n",
    "print(confusion_matrix(y_val, y_pred))\n",
    "print(classification_report(y_val, y_pred))"
   ]
  },
  {
   "cell_type": "markdown",
   "metadata": {},
   "source": [
    "### 6.2 Perceptron"
   ]
  },
  {
   "cell_type": "code",
   "execution_count": 53,
   "metadata": {},
   "outputs": [],
   "source": [
    "# build model\n",
    "from sklearn.linear_model import SGDClassifier\n",
    "model_pcpt = SGDClassifier(loss='perceptron', eta0=1, learning_rate='constant',penalty=None, max_iter=200, random_state=seed_num)\n",
    "model_pcpt.fit(X_train, y_train)\n",
    "\n",
    "# start prediction\n",
    "y_pred = model_pcpt.predict(X_val)"
   ]
  },
  {
   "cell_type": "code",
   "execution_count": 54,
   "metadata": {},
   "outputs": [
    {
     "name": "stdout",
     "output_type": "stream",
     "text": [
      "0.8513513513513513\n",
      "0.64\n",
      "0.8888888888888888\n",
      "0.7441860465116279\n",
      "[[94  4]\n",
      " [18 32]]\n",
      "              precision    recall  f1-score   support\n",
      "\n",
      "           0       0.84      0.96      0.90        98\n",
      "           1       0.89      0.64      0.74        50\n",
      "\n",
      "    accuracy                           0.85       148\n",
      "   macro avg       0.86      0.80      0.82       148\n",
      "weighted avg       0.86      0.85      0.84       148\n",
      "\n"
     ]
    }
   ],
   "source": [
    "# print results\n",
    "print(accuracy_score(y_val, y_pred))\n",
    "print(recall_score(y_val, y_pred))\n",
    "print(precision_score(y_val, y_pred))\n",
    "print(f1_score(y_val, y_pred))\n",
    "print(confusion_matrix(y_val, y_pred))\n",
    "print(classification_report(y_val, y_pred))"
   ]
  },
  {
   "cell_type": "markdown",
   "metadata": {},
   "source": [
    "### 6.3 Logistic Regression"
   ]
  },
  {
   "cell_type": "code",
   "execution_count": 55,
   "metadata": {},
   "outputs": [],
   "source": [
    "# build model\n",
    "from sklearn.linear_model import SGDClassifier\n",
    "model_logr = SGDClassifier(loss='log', eta0=0.01, learning_rate='constant',penalty=None, max_iter=200, random_state=seed_num)\n",
    "model_logr.fit(X_train, y_train)\n",
    "\n",
    "# start prediction\n",
    "y_pred = model_logr.predict(X_val)"
   ]
  },
  {
   "cell_type": "code",
   "execution_count": 56,
   "metadata": {},
   "outputs": [
    {
     "name": "stdout",
     "output_type": "stream",
     "text": [
      "0.8716216216216216\n",
      "0.78\n",
      "0.8297872340425532\n",
      "0.8041237113402062\n",
      "[[90  8]\n",
      " [11 39]]\n",
      "              precision    recall  f1-score   support\n",
      "\n",
      "           0       0.89      0.92      0.90        98\n",
      "           1       0.83      0.78      0.80        50\n",
      "\n",
      "    accuracy                           0.87       148\n",
      "   macro avg       0.86      0.85      0.85       148\n",
      "weighted avg       0.87      0.87      0.87       148\n",
      "\n"
     ]
    }
   ],
   "source": [
    "# print results\n",
    "print(accuracy_score(y_val, y_pred))\n",
    "print(recall_score(y_val, y_pred))\n",
    "print(precision_score(y_val, y_pred))\n",
    "print(f1_score(y_val, y_pred))\n",
    "print(confusion_matrix(y_val, y_pred))\n",
    "print(classification_report(y_val, y_pred))"
   ]
  },
  {
   "cell_type": "markdown",
   "metadata": {},
   "source": [
    "### 6.4 Decision Tree"
   ]
  },
  {
   "cell_type": "code",
   "execution_count": 57,
   "metadata": {},
   "outputs": [
    {
     "name": "stdout",
     "output_type": "stream",
     "text": [
      "{'criterion': 'entropy', 'max_depth': 9}\n"
     ]
    }
   ],
   "source": [
    "# Select a set of parameters that gives optimal result\n",
    "from sklearn.tree import DecisionTreeClassifier\n",
    "depths = np.arange(5,15,1)\n",
    "parameters={'criterion':('entropy','gini'), 'max_depth':depths}\n",
    "clf = DecisionTreeClassifier(random_state=seed_num)\n",
    "gsc = GridSearchCV(clf, parameters, cv = 5, scoring = ['accuracy','precision','recall','f1'], n_jobs = 3, refit = 'f1')\n",
    "gsc.fit(X_train, y_train)\n",
    "print(gsc.best_params_)"
   ]
  },
  {
   "cell_type": "code",
   "execution_count": 58,
   "metadata": {},
   "outputs": [],
   "source": [
    "# Build model\n",
    "model_dt = DecisionTreeClassifier(criterion='entropy',  max_depth= 9, random_state=seed_num)\n",
    "model_dt.fit(X_train, y_train)\n",
    "\n",
    "#start prediction\n",
    "y_pred = model_dt.predict(X_val)"
   ]
  },
  {
   "cell_type": "code",
   "execution_count": 59,
   "metadata": {},
   "outputs": [
    {
     "name": "stdout",
     "output_type": "stream",
     "text": [
      "0.831081081081081\n",
      "0.7\n",
      "0.7777777777777778\n",
      "0.7368421052631577\n",
      "[[88 10]\n",
      " [15 35]]\n",
      "              precision    recall  f1-score   support\n",
      "\n",
      "           0       0.85      0.90      0.88        98\n",
      "           1       0.78      0.70      0.74        50\n",
      "\n",
      "    accuracy                           0.83       148\n",
      "   macro avg       0.82      0.80      0.81       148\n",
      "weighted avg       0.83      0.83      0.83       148\n",
      "\n"
     ]
    }
   ],
   "source": [
    "# print results\n",
    "print(accuracy_score(y_val, y_pred))\n",
    "print(recall_score(y_val, y_pred))\n",
    "print(precision_score(y_val, y_pred))\n",
    "print(f1_score(y_val, y_pred))\n",
    "print(confusion_matrix(y_val, y_pred))\n",
    "print(classification_report(y_val, y_pred))"
   ]
  },
  {
   "cell_type": "markdown",
   "metadata": {},
   "source": [
    "### 6.5 Support Vector Machine"
   ]
  },
  {
   "cell_type": "code",
   "execution_count": 60,
   "metadata": {},
   "outputs": [
    {
     "name": "stdout",
     "output_type": "stream",
     "text": [
      "{'C': 10, 'degree': 2, 'kernel': 'rbf'}\n"
     ]
    }
   ],
   "source": [
    "# Select a set of parameters that gives optimal result\n",
    "from sklearn.svm import SVC\n",
    "parameters={'kernel':('linear','poly','rbf','sigmoid'), 'C':[5,10,15], 'degree':[2,3,4]}\n",
    "clf = SVC()\n",
    "gsc = GridSearchCV(clf, parameters, cv = 5, scoring = ['accuracy','precision','recall','f1'], n_jobs = 3, refit = 'f1')\n",
    "gsc.fit(X_train, y_train)\n",
    "print(gsc.best_params_)"
   ]
  },
  {
   "cell_type": "code",
   "execution_count": 61,
   "metadata": {},
   "outputs": [],
   "source": [
    "# Build model\n",
    "model_svc = SVC(kernel='rbf', C=10, gamma='scale')\n",
    "model_svc.fit(X_train, y_train)\n",
    "\n",
    "# start prediction\n",
    "y_pred = model_svc.predict(X_val)"
   ]
  },
  {
   "cell_type": "code",
   "execution_count": 62,
   "metadata": {
    "scrolled": true
   },
   "outputs": [
    {
     "name": "stdout",
     "output_type": "stream",
     "text": [
      "0.8783783783783784\n",
      "0.8\n",
      "0.8333333333333334\n",
      "0.816326530612245\n",
      "[[90  8]\n",
      " [10 40]]\n",
      "              precision    recall  f1-score   support\n",
      "\n",
      "           0       0.90      0.92      0.91        98\n",
      "           1       0.83      0.80      0.82        50\n",
      "\n",
      "    accuracy                           0.88       148\n",
      "   macro avg       0.87      0.86      0.86       148\n",
      "weighted avg       0.88      0.88      0.88       148\n",
      "\n"
     ]
    }
   ],
   "source": [
    "# print results\n",
    "print(accuracy_score(y_val, y_pred))\n",
    "print(recall_score(y_val, y_pred))\n",
    "print(precision_score(y_val, y_pred))\n",
    "print(f1_score(y_val, y_pred))\n",
    "print(confusion_matrix(y_val, y_pred))\n",
    "print(classification_report(y_val, y_pred))"
   ]
  },
  {
   "cell_type": "markdown",
   "metadata": {},
   "source": [
    "Based on the results, the optimal machine learning model is model of K-Nearest Neighbour. It has achieved the best result in overall."
   ]
  },
  {
   "cell_type": "markdown",
   "metadata": {},
   "source": [
    "## 7.0 Confirm the machine learning model"
   ]
  },
  {
   "cell_type": "markdown",
   "metadata": {},
   "source": [
    "We are going to test with model of **K-Nearest Neighbour** again. This time, we are going to use the test set."
   ]
  },
  {
   "cell_type": "code",
   "execution_count": 63,
   "metadata": {},
   "outputs": [],
   "source": [
    "# start prediction\n",
    "y_pred = model_knn.predict(X_test)"
   ]
  },
  {
   "cell_type": "code",
   "execution_count": 64,
   "metadata": {},
   "outputs": [
    {
     "name": "stdout",
     "output_type": "stream",
     "text": [
      "0.8422712933753943\n",
      "0.7663551401869159\n",
      "0.7663551401869159\n",
      "0.766355140186916\n",
      "[[185  25]\n",
      " [ 25  82]]\n",
      "              precision    recall  f1-score   support\n",
      "\n",
      "           0       0.88      0.88      0.88       210\n",
      "           1       0.77      0.77      0.77       107\n",
      "\n",
      "    accuracy                           0.84       317\n",
      "   macro avg       0.82      0.82      0.82       317\n",
      "weighted avg       0.84      0.84      0.84       317\n",
      "\n"
     ]
    }
   ],
   "source": [
    "# print results\n",
    "print(accuracy_score(y_test, y_pred))\n",
    "print(recall_score(y_test, y_pred))\n",
    "print(precision_score(y_test, y_pred))\n",
    "print(f1_score(y_test, y_pred))\n",
    "print(confusion_matrix(y_test, y_pred))\n",
    "print(classification_report(y_test, y_pred))"
   ]
  },
  {
   "cell_type": "markdown",
   "metadata": {},
   "source": [
    "Oops! It seems like the variance of testing using test set and validation set is significant and the result with test case is much lower than some of the models. Now, we are going to test with the model that achieved second highest performance above which is model of **Support Vector Machine** again. This time, we are going to use the test set."
   ]
  },
  {
   "cell_type": "code",
   "execution_count": 65,
   "metadata": {},
   "outputs": [],
   "source": [
    "# start prediction\n",
    "y_pred = model_svc.predict(X_test)"
   ]
  },
  {
   "cell_type": "code",
   "execution_count": 66,
   "metadata": {},
   "outputs": [
    {
     "name": "stdout",
     "output_type": "stream",
     "text": [
      "0.8706624605678234\n",
      "0.8037383177570093\n",
      "0.8113207547169812\n",
      "0.807511737089202\n",
      "[[190  20]\n",
      " [ 21  86]]\n",
      "              precision    recall  f1-score   support\n",
      "\n",
      "           0       0.90      0.90      0.90       210\n",
      "           1       0.81      0.80      0.81       107\n",
      "\n",
      "    accuracy                           0.87       317\n",
      "   macro avg       0.86      0.85      0.86       317\n",
      "weighted avg       0.87      0.87      0.87       317\n",
      "\n"
     ]
    }
   ],
   "source": [
    "# print results\n",
    "print(accuracy_score(y_test, y_pred))\n",
    "print(recall_score(y_test, y_pred))\n",
    "print(precision_score(y_test, y_pred))\n",
    "print(f1_score(y_test, y_pred))\n",
    "print(confusion_matrix(y_test, y_pred))\n",
    "print(classification_report(y_test, y_pred))"
   ]
  },
  {
   "cell_type": "markdown",
   "metadata": {},
   "source": [
    "The result of support vector machine is very similar to the result we get from validation set. And, this model is stable with different sets of dataset. In the average, it is more accurate."
   ]
  },
  {
   "cell_type": "markdown",
   "metadata": {},
   "source": [
    "To be safer, we are going to get another model which has close performance to support vector machine above tested again with test set, which is **Logistic Regression**."
   ]
  },
  {
   "cell_type": "code",
   "execution_count": 67,
   "metadata": {},
   "outputs": [
    {
     "name": "stdout",
     "output_type": "stream",
     "text": [
      "0.8359621451104101\n",
      "0.7009345794392523\n",
      "0.7894736842105263\n",
      "0.7425742574257426\n",
      "[[190  20]\n",
      " [ 32  75]]\n",
      "              precision    recall  f1-score   support\n",
      "\n",
      "           0       0.86      0.90      0.88       210\n",
      "           1       0.79      0.70      0.74       107\n",
      "\n",
      "    accuracy                           0.84       317\n",
      "   macro avg       0.82      0.80      0.81       317\n",
      "weighted avg       0.83      0.84      0.83       317\n",
      "\n"
     ]
    }
   ],
   "source": [
    "# start prediction\n",
    "y_pred = model_logr.predict(X_test)\n",
    "\n",
    "# print results\n",
    "print(accuracy_score(y_test, y_pred))\n",
    "print(recall_score(y_test, y_pred))\n",
    "print(precision_score(y_test, y_pred))\n",
    "print(f1_score(y_test, y_pred))\n",
    "print(confusion_matrix(y_test, y_pred))\n",
    "print(classification_report(y_test, y_pred))"
   ]
  },
  {
   "cell_type": "markdown",
   "metadata": {},
   "source": [
    "From the results of using both validation set and test set, **Support Vector Machine** has achieved the best performance in overall."
   ]
  },
  {
   "cell_type": "markdown",
   "metadata": {},
   "source": [
    "## 8.0 Conclusion"
   ]
  },
  {
   "cell_type": "markdown",
   "metadata": {},
   "source": [
    "The best suited machine learning model is model of support vector machine."
   ]
  }
 ],
 "metadata": {
  "kernelspec": {
   "display_name": "Python 3",
   "language": "python",
   "name": "python3"
  },
  "language_info": {
   "codemirror_mode": {
    "name": "ipython",
    "version": 3
   },
   "file_extension": ".py",
   "mimetype": "text/x-python",
   "name": "python",
   "nbconvert_exporter": "python",
   "pygments_lexer": "ipython3",
   "version": "3.8.5"
  }
 },
 "nbformat": 4,
 "nbformat_minor": 4
}
